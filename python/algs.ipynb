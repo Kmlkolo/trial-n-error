{
 "cells": [
  {
   "cell_type": "code",
   "execution_count": null,
   "metadata": {
    "vscode": {
     "languageId": "plaintext"
    }
   },
   "outputs": [],
   "source": [
    "def is_isogram(string):\n",
    "    letters = set()\n",
    "    for l in string.lower():\n",
    "        if l not in letters:\n",
    "            letters.add(l)\n",
    "        else:\n",
    "            return False\n",
    "    return True\n",
    "# ↓ list comprehension not suitable for task, fails some tests ↓\n",
    "# [letters.add(l) if l not in letters else False for l in string.lower()]"
   ]
  }
 ],
 "metadata": {
  "language_info": {
   "name": "python"
  }
 },
 "nbformat": 4,
 "nbformat_minor": 2
}
