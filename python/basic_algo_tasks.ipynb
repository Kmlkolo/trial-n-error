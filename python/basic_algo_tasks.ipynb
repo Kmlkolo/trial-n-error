{
 "cells": [
  {
   "cell_type": "code",
   "execution_count": null,
   "metadata": {},
   "outputs": [],
   "source": [
    "# Task 1v1\n",
    "n1 = int(input(\"wprowadź pierwszą liczbę\"))\n",
    "n2 = int(input(\"wprowadź drugą liczbę\"))\n",
    "\n",
    "mult = n1 * n2\n",
    "sum = n1 + n2\n",
    "\n",
    "if mult > 1000:\n",
    "    print(sum)\n",
    "else:\n",
    "    print(mult)"
   ]
  },
  {
   "cell_type": "code",
   "execution_count": null,
   "metadata": {},
   "outputs": [],
   "source": [
    "# Task 1v2\n",
    "def multi_or_sum(n1, n2):\n",
    "    product = n1 * n2\n",
    "    if product <= 1000:\n",
    "        return product\n",
    "    else:\n",
    "        return n1 + n2\n",
    "\n",
    "result = multi_or_sum(20, 30)\n",
    "print(\"The result is:\", result)\n",
    "\n",
    "result = multi_or_sum(40, 30)\n",
    "print(\"The result is:\", result)"
   ]
  },
  {
   "cell_type": "code",
   "execution_count": null,
   "metadata": {},
   "outputs": [],
   "source": [
    "def is_python_pass_by_reference():\n",
    "    a = 0\n",
    "    b = a\n",
    "    a = 1\n",
    "    print(bool(b))\n",
    "is_python_pass_by_reference()"
   ]
  },
  {
   "cell_type": "code",
   "execution_count": null,
   "metadata": {},
   "outputs": [],
   "source": [
    "# Task 2v1\n",
    "print(\"Printing current and previous number sum in a range(10)\")\n",
    "for i in range(0, 10):\n",
    "    print(\"Current number \", i, \" Previous number \", i-1 if i > 0 else i, \" Sum: \", i+i-1 if i > 0 else i + i)"
   ]
  },
  {
   "cell_type": "code",
   "execution_count": null,
   "metadata": {},
   "outputs": [],
   "source": [
    "# Task 2v2\n",
    "print(\"Printing current and previous number sum in a range(10)\")\n",
    "prev_i = 0\n",
    "for i in range(10):\n",
    "    print(\"Current number \", i, \" Previous number \", prev_i, \" Sum: \", i + prev_i)\n",
    "    prev_i = i\n",
    "    i += i"
   ]
  },
  {
   "cell_type": "code",
   "execution_count": null,
   "metadata": {
    "metadata": {}
   },
   "outputs": [],
   "source": [
    "# Task 3v1\n",
    "def print_even_index():\n",
    "    word = input()\n",
    "    if word == \"\":\n",
    "        word = \"pynative\"\n",
    "    print('Original String is ', a, '\\nPrinting only even index chars')\n",
    "    for i, le in enumerate(word):\n",
    "        if i % 2 == 0:\n",
    "            print(le)\n",
    "\n",
    "print_even_index()"
   ]
  },
  {
   "cell_type": "code",
   "execution_count": null,
   "metadata": {
    "metadata": {}
   },
   "outputs": [],
   "source": [
    "# Task 3v2\n",
    "\n",
    "def print_even_index(word=\"pynative\"):\n",
    "      for w in range(len(word)):\n",
    "            if w % 2 == 0:\n",
    "                print(word[w])\n",
    "\n",
    "print_even_index(\"katakumby\")"
   ]
  },
  {
   "cell_type": "code",
   "execution_count": null,
   "metadata": {
    "metadata": {}
   },
   "outputs": [],
   "source": [
    "# Task 3v3\n",
    "\n",
    "even_letters = []\n",
    "\n",
    "def print_even_index(word=\"pynative\"):\n",
    "     for w in word:\n",
    "          [even_letters.append(w) for i, w in enumerate(word) if i % 2 == 0]\n",
    "     for l in even_letters:\n",
    "          return l\n",
    "\n",
    "\n",
    "\n",
    "print_even_index2(\"rzodkiewka\")"
   ]
  },
  {
   "cell_type": "code",
   "execution_count": 32,
   "metadata": {
    "metadata": {}
   },
   "outputs": [
    {
     "data": {
      "text/plain": [
       "''"
      ]
     },
     "execution_count": 32,
     "metadata": {},
     "output_type": "execute_result"
    }
   ],
   "source": [
    "# Task 4v1\n",
    "def remove_chars(word=\"pynative\", num_letters=len(word)-1):\n",
    "      return word[num_letters:]\n",
    "\n",
    "remove_chars(word, 30)"
   ]
  },
  {
   "cell_type": "code",
   "execution_count": 9,
   "metadata": {
    "metadata": {}
   },
   "outputs": [
    {
     "name": "stdout",
     "output_type": "stream",
     "text": [
      "['p', 'y', 'n', 'a', 't', 'i', 'v', 'e']\n",
      "[0, 1, 2, 3]\n"
     ]
    },
    {
     "data": {
      "text/plain": [
       "['y', 'a', 'i', 'e']"
      ]
     },
     "execution_count": 9,
     "metadata": {},
     "output_type": "execute_result"
    }
   ],
   "source": [
    "# Task 4v2\n",
    "word = \"pynative\"\n",
    "def remove_chars(word, num_letters=0):\n",
    "      lword = list(word)\n",
    "      print(lword)\n",
    "      print([num for num in range(num_letters)])\n",
    "      [lword.pop(l) for l in range(num_letters)]\n",
    "      return lword\n",
    "\n",
    "remove_chars(word, 4)"
   ]
  },
  {
   "cell_type": "code",
   "execution_count": 11,
   "metadata": {},
   "outputs": [
    {
     "name": "stdout",
     "output_type": "stream",
     "text": [
      "['apple', 'cherry']\n",
      "banana\n"
     ]
    }
   ],
   "source": [
    "fruits = ['apple', 'banana', 'cherry']\n",
    "\n",
    "x = fruits.pop(1)\n",
    "\n",
    "print(fruits)\n",
    "print(x)\n"
   ]
  },
  {
   "cell_type": "code",
   "execution_count": 17,
   "metadata": {},
   "outputs": [
    {
     "data": {
      "text/plain": [
       "False"
      ]
     },
     "execution_count": 17,
     "metadata": {},
     "output_type": "execute_result"
    }
   ],
   "source": [
    "# Task 5\n",
    "numbers_x = [10, 20, 30, 40, 10]\n",
    "numbers_y = [75, 65, 35, 75, 30]\n",
    "\n",
    "def first_equals_last(given_list):\n",
    "      return given_list[0] == given_list[-1]\n",
    "\n",
    "first_equals_last(numbers_x)\n",
    "first_equals_last(numbers_y)"
   ]
  },
  {
   "cell_type": "code",
   "execution_count": 5,
   "metadata": {},
   "outputs": [
    {
     "name": "stdout",
     "output_type": "stream",
     "text": [
      "10\n",
      "5\n",
      "20\n",
      "60\n"
     ]
    }
   ],
   "source": [
    "# Task 6\n",
    "def div_5(ls):\n",
    "      for i in ls:\n",
    "            if i % 5 == 0:\n",
    "                  print(i)\n",
    "\n",
    "list1 = [10, 5, 20, 60, 22, 89]\n",
    "div_5(list1)"
   ]
  },
  {
   "cell_type": "code",
   "execution_count": 7,
   "metadata": {},
   "outputs": [
    {
     "name": "stdout",
     "output_type": "stream",
     "text": [
      "Emma  appeared  2  times.\n"
     ]
    }
   ],
   "source": [
    "# Task 7\n",
    "str_x = \"Emma is a good developer. Emma is a writer.\"\n",
    "\n",
    "def count_occur(keyword=\"Emma\", text=str_x):\n",
    "      x = text.count(\"Emma\")\n",
    "      print(keyword,\" appeared \", x, \" times.\")\n",
    "\n",
    "count_occur()"
   ]
  },
  {
   "cell_type": "code",
   "execution_count": 15,
   "metadata": {},
   "outputs": [
    {
     "name": "stdout",
     "output_type": "stream",
     "text": [
      "1\n",
      "22\n",
      "333\n",
      "4444\n",
      "55555\n"
     ]
    }
   ],
   "source": [
    "# Task 8\n",
    "def print_pattern(a):\n",
    "      for aa in range(1, a+1):\n",
    "            print(str(aa) * aa)\n",
    "\n",
    "print_pattern(5)"
   ]
  },
  {
   "cell_type": "code",
   "execution_count": 63,
   "metadata": {},
   "outputs": [
    {
     "name": "stdout",
     "output_type": "stream",
     "text": [
      "10101a not a number. Program quits.\n",
      "223 is not a palindrome.\n",
      "20002 is a palindrome.\n",
      "2012 is not a palindrome.\n",
      "200012 is not a palindrome.\n"
     ]
    }
   ],
   "source": [
    "# Task 9\n",
    "def is_num_palindrome(a):\n",
    "      if isinstance(a, str):\n",
    "            try:\n",
    "                  a = int(a)\n",
    "            except ValueError:\n",
    "                  print(f\"{a} not a number. Program quits.\")\n",
    "                  return\n",
    "      a = str(a)\n",
    "      l_mirrors = []\n",
    "      for aa in range(int(len(a)/2)):\n",
    "            mirrors = a[aa] == a[-(aa+1)]\n",
    "            l_mirrors.append(mirrors)\n",
    "      for m in l_mirrors:\n",
    "            if m != True:\n",
    "                  print(f\"{a} is not a palindrome.\")\n",
    "                  return\n",
    "            else:\n",
    "                  continue\n",
    "      print(f\"{a} is a palindrome.\")\n",
    "\n",
    "is_num_palindrome(\"10101a\")\n",
    "is_num_palindrome(223)\n",
    "is_num_palindrome(20002)\n",
    "is_num_palindrome(2012)\n",
    "is_num_palindrome(200012)"
   ]
  },
  {
   "cell_type": "code",
   "execution_count": null,
   "metadata": {},
   "outputs": [],
   "source": [
    "#concatenate lists\n",
    "\n",
    "list1 = ['a', 'b', 'c']\n",
    "list2 = ['A', 'B', 'C']\n",
    "\n",
    "#1)\n",
    "d = dict(zip(list1, list2))\n",
    "print(d, type(d))\n",
    "\n",
    "#2)\n",
    "# d = [(list1[i], list2[i]) for x, y in dict().items()] zwraca puste\n",
    "d = [dict.fromkeys(list1[i], list2[i]) for i in range(len(list1))]\n",
    "print(d, type(d))"
   ]
  }
 ],
 "metadata": {
  "kernelspec": {
   "display_name": "Python 3",
   "language": "python",
   "name": "python3"
  },
  "language_info": {
   "codemirror_mode": {
    "name": "ipython",
    "version": 3
   },
   "file_extension": ".py",
   "mimetype": "text/x-python",
   "name": "python",
   "nbconvert_exporter": "python",
   "pygments_lexer": "ipython3",
   "version": "3.10.12"
  },
  "orig_nbformat": 4
 },
 "nbformat": 4,
 "nbformat_minor": 2
}
