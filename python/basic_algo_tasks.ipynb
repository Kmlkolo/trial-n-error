{
 "cells": [
  {
   "cell_type": "code",
   "execution_count": null,
   "metadata": {},
   "outputs": [],
   "source": [
    "# Task 1v1\n",
    "n1 = int(input(\"wprowadź pierwszą liczbę\"))\n",
    "n2 = int(input(\"wprowadź drugą liczbę\"))\n",
    "\n",
    "mult = n1 * n2\n",
    "sum = n1 + n2\n",
    "\n",
    "if mult > 1000:\n",
    "    print(sum)\n",
    "else:\n",
    "    print(mult)"
   ]
  },
  {
   "cell_type": "code",
   "execution_count": null,
   "metadata": {},
   "outputs": [],
   "source": [
    "# Task 1v2\n",
    "def multi_or_sum(n1, n2):\n",
    "    product = n1 * n2\n",
    "    if product <= 1000:\n",
    "        return product\n",
    "    else:\n",
    "        return n1 + n2\n",
    "\n",
    "result = multi_or_sum(20, 30)\n",
    "print(\"The result is:\", result)\n",
    "\n",
    "result = multi_or_sum(40, 30)\n",
    "print(\"The result is:\", result)"
   ]
  },
  {
   "cell_type": "code",
   "execution_count": null,
   "metadata": {},
   "outputs": [],
   "source": [
    "def is_python_pass_by_reference():\n",
    "    a = 0\n",
    "    b = a\n",
    "    a = 1\n",
    "    print(bool(b))\n",
    "is_python_pass_by_reference()"
   ]
  },
  {
   "cell_type": "code",
   "execution_count": null,
   "metadata": {},
   "outputs": [],
   "source": [
    "# Task 2v1\n",
    "print(\"Printing current and previous number sum in a range(10)\")\n",
    "for i in range(0, 10):\n",
    "    print(\"Current number \", i, \" Previous number \", i-1 if i > 0 else i, \" Sum: \", i+i-1 if i > 0 else i + i)"
   ]
  },
  {
   "cell_type": "code",
   "execution_count": null,
   "metadata": {},
   "outputs": [],
   "source": [
    "# Task 2v2\n",
    "print(\"Printing current and previous number sum in a range(10)\")\n",
    "prev_i = 0\n",
    "for i in range(10):\n",
    "    print(\"Current number \", i, \" Previous number \", prev_i, \" Sum: \", i + prev_i)\n",
    "    prev_i = i\n",
    "    i += i"
   ]
  },
  {
   "cell_type": "code",
   "execution_count": null,
   "metadata": {},
   "outputs": [],
   "source": [
    "# Task 3v1\n",
    "def print_even_index():\n",
    "    word = input()\n",
    "    if word == \"\":\n",
    "        word = \"pynative\"\n",
    "    print('Original String is ', a, '\\nPrinting only even index chars')\n",
    "    for i, le in enumerate(word):\n",
    "        if i % 2 == 0:\n",
    "            print(le)\n",
    "\n",
    "print_even_index()"
   ]
  }
 ],
 "metadata": {
  "kernelspec": {
   "display_name": "Python 3",
   "language": "python",
   "name": "python3"
  },
  "language_info": {
   "codemirror_mode": {
    "name": "ipython",
    "version": 3
   },
   "file_extension": ".py",
   "mimetype": "text/x-python",
   "name": "python",
   "nbconvert_exporter": "python",
   "pygments_lexer": "ipython3",
   "version": "3.10.12"
  },
  "orig_nbformat": 4
 },
 "nbformat": 4,
 "nbformat_minor": 2
}
