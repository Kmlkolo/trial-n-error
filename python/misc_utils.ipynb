{
 "cells": [
  {
   "cell_type": "code",
   "execution_count": null,
   "metadata": {},
   "outputs": [],
   "source": [
    "def return_nth_match(matcher: str, pattern: str, which_occurence: int) -> int:\n",
    "    found = matcher.find(pattern, matcher.find(pattern) + 1)\n",
    "    occurences = matcher.count(pattern)\n",
    "    \n",
    "    if not 0 < which_occurence < occurences + 1:\n",
    "        print('ustawiony numer wystąpienia nie mieści się w przedziale liczby wystąpień znaku w tekście'); return -1\n",
    "    elif which_occurence == 1: found = matcher.find(pattern)\n",
    "    elif which_occurence == 2: found = matcher.find(pattern, matcher.find(pattern) + 1)\n",
    "    elif which_occurence >= 3:\n",
    "        for n in range(which_occurence - 2):\n",
    "            found = matcher.find(pattern, found + 1) # recurrent\n",
    "    \n",
    "    return found"
   ]
  }
 ],
 "metadata": {
  "kernelspec": {
   "display_name": "Python 3",
   "language": "python",
   "name": "python3"
  },
  "language_info": {
   "name": "python",
   "version": "3.10.12"
  }
 },
 "nbformat": 4,
 "nbformat_minor": 2
}
